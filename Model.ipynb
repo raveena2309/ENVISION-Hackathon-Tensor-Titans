{
 "cells": [
  {
   "cell_type": "code",
   "execution_count": 7,
   "id": "366bbe3f-e05f-4d7f-864f-242de5716389",
   "metadata": {},
   "outputs": [
    {
     "name": "stdout",
     "output_type": "stream",
     "text": [
      "Accuracy: 0.8199329983249581\n",
      "Precision: 0.9186892027082558\n",
      "Recall: 0.8199329983249581\n"
     ]
    }
   ],
   "source": [
    "import pickle\n",
    "import pandas as pd\n",
    "from sklearn.model_selection import train_test_split\n",
    "from sklearn.linear_model import LogisticRegression\n",
    "from sklearn.metrics import accuracy_score, precision_score, recall_score, confusion_matrix\n",
    "from sklearn.feature_extraction.text import CountVectorizer, TfidfTransformer\n",
    "\n",
    "df = pd.read_csv('output2.csv')\n",
    "\n",
    "vectoriser = CountVectorizer()\n",
    "X_vectorized = vectoriser.fit_transform(df['processed_statement'])\n",
    "\n",
    "transformer = TfidfTransformer()\n",
    "tfidf_data = transformer.fit_transform(X_vectorized)\n",
    "\n",
    "X_train, X_test, Y_train, Y_test = train_test_split(tfidf_data, df['target'], test_size=0.2, random_state=42)\n",
    "\n",
    "lr = LogisticRegression()\n",
    "lr.fit(X_train, Y_train)\n",
    "\n",
    "Y_pred = lr.predict(X_test)\n",
    "acc = accuracy_score(Y_pred, Y_test)\n",
    "pre = precision_score(Y_pred, Y_test, average='weighted')\n",
    "rec = recall_score(Y_pred, Y_test, average='weighted')\n",
    "\n",
    "print(f\"Accuracy: {acc}\")\n",
    "print(f\"Precision: {pre}\")\n",
    "print(f\"Recall: {rec}\")\n",
    "\n",
    "with open('model.pkl', 'wb') as model_file:\n",
    "    pickle.dump(lr, model_file)\n",
    "\n",
    "with open('count_vectorizer.pkl', 'wb') as vectorizer_file:\n",
    "    pickle.dump(vectoriser, vectorizer_file)"
   ]
  },
  {
   "cell_type": "code",
   "execution_count": null,
   "id": "76e14b9b-6cfe-4a7e-9aa5-3f20564022a0",
   "metadata": {},
   "outputs": [],
   "source": []
  }
 ],
 "metadata": {
  "kernelspec": {
   "display_name": "Python 3 (ipykernel)",
   "language": "python",
   "name": "python3"
  },
  "language_info": {
   "codemirror_mode": {
    "name": "ipython",
    "version": 3
   },
   "file_extension": ".py",
   "mimetype": "text/x-python",
   "name": "python",
   "nbconvert_exporter": "python",
   "pygments_lexer": "ipython3",
   "version": "3.12.7"
  }
 },
 "nbformat": 4,
 "nbformat_minor": 5
}
